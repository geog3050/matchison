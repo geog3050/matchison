{
 "cells": [
  {
   "cell_type": "code",
   "execution_count": 16,
   "metadata": {},
   "outputs": [],
   "source": [
    "poly1 = \"ia_bg_solid\"\n",
    "poly2 = \"ia_bg_con\"\n",
    "outputfc = \"ia_bg_all_data\"\n",
    "intable = \"IA_envj_independent\"\n",
    "infield = \"AFFGEOID\"\n",
    "joinfield = \"AFFGEOID\"\n",
    "tablefield = \"geoid\"\n",
    "tojoin1 = \"con1m\"\n",
    "tojoin2 = \"con3m\"\n",
    "tojoin3 = \"con5m\""
   ]
  },
  {
   "cell_type": "code",
   "execution_count": 17,
   "metadata": {},
   "outputs": [],
   "source": [
    "def calculatePercentAreaOfPolygonAInPolygonB(input_geodatabase, fcPoint, fcPolygon, id_field, out_name):\n",
    "\n",
    "    # Import the necessary modules\n",
    "    import arcpy\n",
    "    import os\n",
    "    import sys\n",
    "    import traceback\n",
    "    \n",
    "    # Enable overwriting\n",
    "    arcpy.env.overwriteOutput = True\n",
    "    \n",
    "    # Set the current workspace\n",
    "    arcpy.env.workspace = input_geodatabase\n",
    "    \n",
    "    # Define custom exceptions\n",
    "    class WorkspaceExistsError(Exception):\n",
    "        pass\n",
    "    class WorkspaceEmptyError(Exception):\n",
    "        pass\n",
    "    class fcPolygonExistsError(Exception):\n",
    "        pass\n",
    "    class fcPolygonShapeError(Exception):\n",
    "        pass\n",
    "    class fcPointExistsError(Exception):\n",
    "        pass\n",
    "    class fcPointShapeError(Exception):\n",
    "        pass\n",
    "    class fieldNameError(Exception):\n",
    "        pass\n",
    "    class attributeValueError(Exception):\n",
    "        pass\n",
    "    class fcCoordSysError(Exception):\n",
    "        pass\n",
    "    \n",
    "    \n",
    "    try:\n",
    "        # Test if workspace exists\n",
    "        if arcpy.Exists(input_geodatabase):\n",
    "            print(\"Specified workspace has been found.\")\n",
    "        else:\n",
    "            raise WorkspaceExistsError\n",
    "        \n",
    "        # Test if there are any feature classes in the specified folder or geodatabase\n",
    "        fclist = []\n",
    "        # Walk through the input folder or geodatabase and find all feature classes; add their names to the fclist\n",
    "        checkwalk = arcpy.da.Walk(input_geodatabase, datatype = \"FeatureClass\")\n",
    "        for dirpath, dirnames, filenames in checkwalk:\n",
    "            for file in filenames:\n",
    "                fclist.append(str(file))\n",
    "        \n",
    "        # If fclist is empty, then there were no feature classes in the specified folder or geodatabase\n",
    "        if not fclist:\n",
    "            raise WorkspaceEmptyError\n",
    "        else: pass\n",
    "    \n",
    "        # Test if fcPolygon exists\n",
    "        if arcpy.Exists(fcPolygon):\n",
    "            print(\"Specified polygon feature class has been found.\")\n",
    "        else:\n",
    "            raise fcPolygonExistsError\n",
    "        \n",
    "        # Test if polygon feature class shapeType parameter is valid\n",
    "        descpoly = arcpy.Describe(fcPolygon)\n",
    "        if descpoly.shapeType != \"Polygon\":\n",
    "            raise fcPolygonShapeError\n",
    "        else: print(\"Specified feature class has the correct shape type for this script (polygon).\")\n",
    "        \n",
    "        # Test if fcPoint exists\n",
    "        if arcpy.Exists(fcPoint):\n",
    "            print(\"Specified point feature class has been found.\")\n",
    "        else:\n",
    "            raise fcPointExistsError\n",
    "        \n",
    "        # Test if point feature class shapeType parameter is valid\n",
    "        descpoint = arcpy.Describe(fcPoint)\n",
    "        if descpoint.shapeType != \"Point\":\n",
    "            raise fcPointShapeError\n",
    "        else: print(\"Specified feature class has the correct shape type for this script (point).\")\n",
    "        \n",
    "        # Test if id_field attribute exists in fcPolygon\n",
    "        fields = arcpy.ListFields(fcPolygon)\n",
    "        fieldstest = []\n",
    "        for f in fields:\n",
    "            fieldstest.append(f.name)\n",
    "        if id_field in fieldstest:\n",
    "            print(\"Specified field has been found in the feature class.\")\n",
    "        else: raise fieldNameError\n",
    "        \n",
    "    except WorkspaceExistsError:\n",
    "        print(\"WorkspaceExistsError: The specified workspace (geodatabase or folder) could not be found!\")\n",
    "        \n",
    "    except WorkspaceEmptyError:\n",
    "        print(\"WorkspaceEmptyError: The workspace (geodatabase or folder) appears to contain no feature classes!\")\n",
    "        \n",
    "    except fcPolygonExistsError:\n",
    "        print(\"fcPolygonExistsError: The specified polygon feature class could not be found!\")\n",
    "        \n",
    "    except fcPolygonShapeError:\n",
    "        print(\"fcPolygonShapeError: The specified feature class must be a polygon feature class!\")\n",
    "        \n",
    "    except fcPointExistsError:\n",
    "        print(\"fcPointExistsError: The specified point feature class could not be found!\")\n",
    "        \n",
    "    except fcPointShapeError:\n",
    "        print(\"fcPointShapeError: The specified feature class must be a point feature class!\")\n",
    "    \n",
    "    except fieldNameError:\n",
    "        print(\"fieldNameError: The specified attribute field could not be found within the specified feature class!\")\n",
    "    \n",
    "    # If no exceptions are raised, attempt to carry out the procedure\n",
    "    else:\n",
    "        try:\n",
    "            # Create spatial reference objects for input feature classes\n",
    "            point_sref = descpoint.spatialReference\n",
    "            poly_sref = descpoly.spatialReference\n",
    "            \n",
    "            # If they match and are both projected coordinate systems, proceed.\n",
    "            if point_sref.name == poly_sref.name and point_sref.type == \"Projected\" and poly_sref.type == \"Projected\":\n",
    "                inpoly = fcPolygon\n",
    "                inpoint = fcPoint\n",
    "                print(\"Point and Polygon feature class projections match.\")\n",
    "            # If they don't match and:\n",
    "            else:\n",
    "                print(\"Point and Polygon feature class projections do not match!\")\n",
    "                # Are both projected coordinate systems, project the polygon to match the point\n",
    "                if point_sref.type == \"Projected\" and poly_sref.type == \"Projected\":\n",
    "                    inpoint = fcPoint\n",
    "                    inpoly = fcPolygon + \"_proj\"\n",
    "                    arcpy.management.Project(fcPolygon, inpoly, point_sref)\n",
    "                    print(\"Polygon feature class projected to match point feature class.\")\n",
    "                # The point has a geographic coordinate system while the polygon has a projected coordinate system\n",
    "                elif point_sref.type == \"Geographic\" and poly_sref.type == \"Projected\":\n",
    "                    inpoint = fcPoint + \"_proj\"\n",
    "                    inpoly = fcPolygon\n",
    "                    arcpy.management.Project(fcPoint, inpoint, poly_sref)\n",
    "                    print(\"Point feature class projected to match polygon feature class.\")\n",
    "                # The point has a projected coordinate system while the polygon has a geographic coordinate system\n",
    "                elif point_sref.type == \"Projected\" and poly_sref.type == \"Geographic\":\n",
    "                    inpoint = fcPoint\n",
    "                    inpoly = fcPolygon + \"_proj\"\n",
    "                    arcpy.management.Project(fcPolygon, inpoly, point_sref)\n",
    "                    print(\"Polygon feature class projected to match point feature class.\")  \n",
    "                # The point and polygon both have a geographic coordinate system\n",
    "                elif point_sref.type == \"Geographic\" and poly_sref.type == \"Geographic\":\n",
    "                    raise fcCoordSysError\n",
    "                    \n",
    "            # Clarify which polygon file is being used in the script\n",
    "            print(\"The script will proceed using the following feature classes: \")\n",
    "            print(\"Polygon: \", inpoly)\n",
    "            print(\"Point: \", inpoint)\n",
    "            \n",
    "            # Buffer the points field\n",
    "            # Buffer to 1 US mile\n",
    "            buff1 = fcPoint + \"_buff1\"\n",
    "            arcpy.analysis.Buffer(inpoint, buff1, \"1 Miles\", dissolve_option = \"ALL\", method = \"GEODESIC\")\n",
    "            # Buffer to 3 US miles\n",
    "            buff3 = fcPoint + \"_buff3\"\n",
    "            arcpy.analysis.Buffer(inpoint, buff3, \"3 Miles\", dissolve_option = \"ALL\", method = \"GEODESIC\")\n",
    "            # Buffer to 5 US miles\n",
    "            buff5 = fcPoint + \"_buff5\"\n",
    "            arcpy.analysis.Buffer(inpoint, buff5, \"5 Miles\", dissolve_option = \"ALL\", method = \"GEODESIC\")\n",
    "            print(\"Buffer operation complete.\")\n",
    "            \n",
    "            # Calculate geodesic area (most accurate) of fcPolygon in square miles.\n",
    "            arcpy.AddGeometryAttributes_management(inpoly, \"AREA_GEODESIC\", Area_Unit = \"SQUARE_MILES_US\")\n",
    "            \n",
    "            # Find areas where each buffer and the polygon feature class overlap.\n",
    "            inter1 = \"inter1\"\n",
    "            arcpy.Intersect_analysis([inpoly, buff1], inter1)\n",
    "            inter3 = \"inter3\"\n",
    "            arcpy.Intersect_analysis([inpoly, buff3], inter3)\n",
    "            inter5 = \"inter5\"\n",
    "            arcpy.Intersect_analysis([inpoly, buff5], inter5)\n",
    "            print(\"Intersect operation complete.\")\n",
    "            \n",
    "            \n",
    "            # Calculate geodesic area (most accurate) of buffers within area of fcPolygon in square miles.\n",
    "            arcpy.AddGeometryAttributes_management(inter1, \"AREA_GEODESIC\", Area_Unit = \"SQUARE_MILES_US\")\n",
    "            arcpy.AddGeometryAttributes_management(inter3, \"AREA_GEODESIC\", Area_Unit = \"SQUARE_MILES_US\")\n",
    "            arcpy.AddGeometryAttributes_management(inter5, \"AREA_GEODESIC\", Area_Unit = \"SQUARE_MILES_US\")\n",
    "            print(\"Area of buffer within polygons calculated.\")\n",
    "            \n",
    "            # Create percentage values for buffer areas within polygons\n",
    "            inters = [inter1, inter3, inter5]\n",
    "            for i in inters:\n",
    "                # Create a dictionary\n",
    "                poly_dict = dict()\n",
    "                # Search the intersect output layer with a cursor\n",
    "                with arcpy.da.SearchCursor(i, [id_field, \"AREA_GEO\"]) as scursor:\n",
    "                    for row in scursor:\n",
    "                        idf = row[0]\n",
    "                        if idf in poly_dict.keys():\n",
    "                            poly_dict[idf] += row[1] # If an identical id has already been read, add the geodesic area to the area already recorded for that id\n",
    "                        else:\n",
    "                            poly_dict[idf] = row[1] # If the id has not already been read, create an entry for that id and record the geodesic area\n",
    "            \n",
    "                # Create a new field in fcPolygon to store the aggregated geodesic areas of the intersect output\n",
    "                inter_area = \"inter_area\"\n",
    "                arcpy.AddField_management(inpoly, inter_area, \"DOUBLE\")\n",
    "            \n",
    "                # Use the update cursor to populate the new field\n",
    "                with arcpy.da.UpdateCursor(inpoly, [id_field, inter_area]) as ucursor:\n",
    "                    for row in ucursor:\n",
    "                        if row[0] in poly_dict.keys():\n",
    "                            row[1] = poly_dict[row[0]]\n",
    "                        else:\n",
    "                            row[1] = 0\n",
    "                        ucursor.updateRow(row)\n",
    "                    \n",
    "                # Create a new field in fcPolygon to store the calculated percent value\n",
    "                inter_pct = i + \"pct\"\n",
    "                arcpy.AddField_management(inpoly, inter_pct, \"DOUBLE\")\n",
    "            \n",
    "                # Populate the percent value field by dividing the intersection output area by the fcPolygon area\n",
    "                arcpy.CalculateField_management(inpoly, inter_pct, \"!inter_area!/!AREA_GEO!*100\", \"PYTHON3\")\n",
    "                print(inter_pct, \" has been added to \", inpoly)\n",
    "            \n",
    "            # Delete the inter_area field now that it is no longer needed\n",
    "            arcpy.management.DeleteField(inpoly, inter_area)\n",
    "            \n",
    "            # Rename the output feature class\n",
    "            arcpy.management.Rename(inpoly, out_name)\n",
    "                \n",
    "            # Delete the temporary files now that they are no longer needed\n",
    "            del1 = os.path.join(input_geodatabase, buff1)\n",
    "            del2 = os.path.join(input_geodatabase, buff3)\n",
    "            del3 = os.path.join(input_geodatabase, buff5)\n",
    "            del4 = os.path.join(input_geodatabase, inter1)\n",
    "            del5 = os.path.join(input_geodatabase, inter3)\n",
    "            del6 = os.path.join(input_geodatabase, inter5)\n",
    "            arcpy.management.Delete([del1, del2, del3, del4, del5, del6])\n",
    "            print(\"Unneeded fields and feature classes deleted.\")\n",
    "                \n",
    "        # Coordinate system exception handling\n",
    "        except fcCoordSysError:\n",
    "            print(\"Both inputs use a geographic coordinate system! Please project at least one input into a suitable projected coordinate system!\")\n",
    "    \n",
    "        except arcpy.ExecuteError: \n",
    "            # Get the tool error messages \n",
    "            msgs = arcpy.GetMessages(2) \n",
    "    \n",
    "            # Return tool error messages for use with a script tool \n",
    "            arcpy.AddError(msgs) \n",
    "    \n",
    "            # Print tool error messages for use in Python\n",
    "            print(\"Tool Error:\", msgs)\n",
    "    \n",
    "        except:\n",
    "            # Get the traceback object\n",
    "            tb = sys.exc_info()[2]\n",
    "            tbinfo = traceback.format_tb(tb)[0]\n",
    "    \n",
    "            # Put error information into a message string\n",
    "            pymsg = \"PYTHON ERRORS:\\nTraceback info:\\n\" + tbinfo + \"\\nError Info:\\n\" + str(sys.exc_info()[1])\n",
    "            msgs = \"ArcPy ERRORS:\\n\" + arcpy.GetMessages(2) + \"\\n\"\n",
    "    \n",
    "            # Return python error messages for use in script tool or Python window\n",
    "            arcpy.AddError(pymsg)\n",
    "            arcpy.AddError(msgs)\n",
    "    \n",
    "            # Print Python error messages for use in Python / Python window\n",
    "            print(pymsg)\n",
    "            print(msgs)\n",
    "        \n",
    "        print(\"All operations complete!\")"
   ]
  },
  {
   "cell_type": "code",
   "execution_count": 18,
   "metadata": {},
   "outputs": [
    {
     "name": "stdout",
     "output_type": "stream",
     "text": [
      "Specified workspace has been found.\n",
      "Specified polygon feature class has been found.\n",
      "Specified feature class has the correct shape type for this script (polygon).\n",
      "Specified point feature class has been found.\n",
      "Specified feature class has the correct shape type for this script (point).\n",
      "Specified field has been found in the feature class.\n",
      "Point and Polygon feature class projections do not match!\n",
      "Polygon feature class projected to match point feature class.\n",
      "The script will proceed using the following feature classes: \n",
      "Polygon:  ia_block_groups_proj\n",
      "Point:  Solid_Waste_Facilities\n",
      "Buffer operation complete.\n",
      "Intersect operation complete.\n",
      "Area of buffer within polygons calculated.\n",
      "inter1pct  has been added to  ia_block_groups_proj\n",
      "inter3pct  has been added to  ia_block_groups_proj\n",
      "inter5pct  has been added to  ia_block_groups_proj\n",
      "Unneeded fields and feature classes deleted.\n",
      "All operations complete!\n"
     ]
    }
   ],
   "source": [
    "calculatePercentAreaOfPolygonAInPolygonB(r\"C:\\Users\\tchis\\Documents\\ArcGIS\\Projects\\Geovisprog Project\\Geovisprog Project.gdb\", \"Solid_Waste_Facilities\", \"ia_block_groups\", \"GEOID\", poly1)"
   ]
  },
  {
   "cell_type": "code",
   "execution_count": 19,
   "metadata": {},
   "outputs": [
    {
     "data": {
      "text/html": [
       "<h2>Output</h2>C:\\Users\\tchis\\Documents\\ArcGIS\\Projects\\Geovisprog Project\\Geovisprog Project.gdb\\ia_bg_solid<h2>Messages</h2>Start Time: Sunday, May 9, 2021 3:52:15 AM<br/>Succeeded at Sunday, May 9, 2021 3:52:15 AM (Elapsed Time: 0.13 seconds)<br/><style>.rendered_html td, .rendered_html th {text-align: left;}.rendered_html tbody {border: 1px solid black;}</style>"
      ],
      "text/plain": [
       "<Result 'C:\\\\Users\\\\tchis\\\\Documents\\\\ArcGIS\\\\Projects\\\\Geovisprog Project\\\\Geovisprog Project.gdb\\\\ia_bg_solid'>"
      ]
     },
     "execution_count": 19,
     "metadata": {},
     "output_type": "execute_result"
    }
   ],
   "source": [
    "arcpy.management.AlterField(\"ia_bg_solid\", \"inter1pct\", \"solid1m\",\"solid1m\")"
   ]
  },
  {
   "cell_type": "code",
   "execution_count": 20,
   "metadata": {},
   "outputs": [
    {
     "data": {
      "text/html": [
       "<h2>Output</h2>C:\\Users\\tchis\\Documents\\ArcGIS\\Projects\\Geovisprog Project\\Geovisprog Project.gdb\\ia_bg_solid<h2>Messages</h2>Start Time: Sunday, May 9, 2021 3:52:16 AM<br/>Succeeded at Sunday, May 9, 2021 3:52:17 AM (Elapsed Time: 0.13 seconds)<br/><style>.rendered_html td, .rendered_html th {text-align: left;}.rendered_html tbody {border: 1px solid black;}</style>"
      ],
      "text/plain": [
       "<Result 'C:\\\\Users\\\\tchis\\\\Documents\\\\ArcGIS\\\\Projects\\\\Geovisprog Project\\\\Geovisprog Project.gdb\\\\ia_bg_solid'>"
      ]
     },
     "execution_count": 20,
     "metadata": {},
     "output_type": "execute_result"
    }
   ],
   "source": [
    "arcpy.management.AlterField(\"ia_bg_solid\", \"inter3pct\", \"solid3m\",\"solid3m\")"
   ]
  },
  {
   "cell_type": "code",
   "execution_count": 21,
   "metadata": {},
   "outputs": [
    {
     "data": {
      "text/html": [
       "<h2>Output</h2>C:\\Users\\tchis\\Documents\\ArcGIS\\Projects\\Geovisprog Project\\Geovisprog Project.gdb\\ia_bg_solid<h2>Messages</h2>Start Time: Sunday, May 9, 2021 3:52:18 AM<br/>Succeeded at Sunday, May 9, 2021 3:52:18 AM (Elapsed Time: 0.14 seconds)<br/><style>.rendered_html td, .rendered_html th {text-align: left;}.rendered_html tbody {border: 1px solid black;}</style>"
      ],
      "text/plain": [
       "<Result 'C:\\\\Users\\\\tchis\\\\Documents\\\\ArcGIS\\\\Projects\\\\Geovisprog Project\\\\Geovisprog Project.gdb\\\\ia_bg_solid'>"
      ]
     },
     "execution_count": 21,
     "metadata": {},
     "output_type": "execute_result"
    }
   ],
   "source": [
    "arcpy.management.AlterField(\"ia_bg_solid\", \"inter5pct\", \"solid5m\",\"solid5m\")"
   ]
  },
  {
   "cell_type": "code",
   "execution_count": 22,
   "metadata": {},
   "outputs": [
    {
     "data": {
      "text/html": [
       "<h2>Output</h2>C:\\Users\\tchis\\Documents\\ArcGIS\\Projects\\Geovisprog Project\\Geovisprog Project.gdb\\ia_bg_all_data<h2>Messages</h2>Start Time: Sunday, May 9, 2021 3:52:22 AM<br/>Succeeded at Sunday, May 9, 2021 3:52:23 AM (Elapsed Time: 0.47 seconds)<br/><style>.rendered_html td, .rendered_html th {text-align: left;}.rendered_html tbody {border: 1px solid black;}</style>"
      ],
      "text/plain": [
       "<Result 'C:\\\\Users\\\\tchis\\\\Documents\\\\ArcGIS\\\\Projects\\\\Geovisprog Project\\\\Geovisprog Project.gdb\\\\ia_bg_all_data'>"
      ]
     },
     "execution_count": 22,
     "metadata": {},
     "output_type": "execute_result"
    }
   ],
   "source": [
    "arcpy.management.CopyFeatures(poly1, outputfc)"
   ]
  },
  {
   "cell_type": "code",
   "execution_count": 23,
   "metadata": {},
   "outputs": [
    {
     "name": "stdout",
     "output_type": "stream",
     "text": [
      "Specified workspace has been found.\n",
      "Specified polygon feature class has been found.\n",
      "Specified feature class has the correct shape type for this script (polygon).\n",
      "Specified point feature class has been found.\n",
      "Specified feature class has the correct shape type for this script (point).\n",
      "Specified field has been found in the feature class.\n",
      "Point and Polygon feature class projections do not match!\n",
      "Polygon feature class projected to match point feature class.\n",
      "The script will proceed using the following feature classes: \n",
      "Polygon:  ia_block_groups_proj\n",
      "Point:  Contaminated_Sites_Facilities\n",
      "Buffer operation complete.\n",
      "Intersect operation complete.\n",
      "Area of buffer within polygons calculated.\n",
      "inter1pct  has been added to  ia_block_groups_proj\n",
      "inter3pct  has been added to  ia_block_groups_proj\n",
      "inter5pct  has been added to  ia_block_groups_proj\n",
      "Unneeded fields and feature classes deleted.\n",
      "All operations complete!\n"
     ]
    }
   ],
   "source": [
    "calculatePercentAreaOfPolygonAInPolygonB(r\"C:\\Users\\tchis\\Documents\\ArcGIS\\Projects\\Geovisprog Project\\Geovisprog Project.gdb\", \"Contaminated_Sites_Facilities\", \"ia_block_groups\", \"GEOID\", poly2)"
   ]
  },
  {
   "cell_type": "code",
   "execution_count": 24,
   "metadata": {},
   "outputs": [
    {
     "data": {
      "text/html": [
       "<h2>Output</h2>C:\\Users\\tchis\\Documents\\ArcGIS\\Projects\\Geovisprog Project\\Geovisprog Project.gdb\\ia_bg_con<h2>Messages</h2>Start Time: Sunday, May 9, 2021 3:53:48 AM<br/>Succeeded at Sunday, May 9, 2021 3:53:48 AM (Elapsed Time: 0.14 seconds)<br/><style>.rendered_html td, .rendered_html th {text-align: left;}.rendered_html tbody {border: 1px solid black;}</style>"
      ],
      "text/plain": [
       "<Result 'C:\\\\Users\\\\tchis\\\\Documents\\\\ArcGIS\\\\Projects\\\\Geovisprog Project\\\\Geovisprog Project.gdb\\\\ia_bg_con'>"
      ]
     },
     "execution_count": 24,
     "metadata": {},
     "output_type": "execute_result"
    }
   ],
   "source": [
    "arcpy.management.AlterField(\"ia_bg_con\", \"inter1pct\", \"con1m\", \"con1m\")"
   ]
  },
  {
   "cell_type": "code",
   "execution_count": 25,
   "metadata": {},
   "outputs": [
    {
     "data": {
      "text/html": [
       "<h2>Output</h2>C:\\Users\\tchis\\Documents\\ArcGIS\\Projects\\Geovisprog Project\\Geovisprog Project.gdb\\ia_bg_con<h2>Messages</h2>Start Time: Sunday, May 9, 2021 3:53:49 AM<br/>Succeeded at Sunday, May 9, 2021 3:53:49 AM (Elapsed Time: 0.14 seconds)<br/><style>.rendered_html td, .rendered_html th {text-align: left;}.rendered_html tbody {border: 1px solid black;}</style>"
      ],
      "text/plain": [
       "<Result 'C:\\\\Users\\\\tchis\\\\Documents\\\\ArcGIS\\\\Projects\\\\Geovisprog Project\\\\Geovisprog Project.gdb\\\\ia_bg_con'>"
      ]
     },
     "execution_count": 25,
     "metadata": {},
     "output_type": "execute_result"
    }
   ],
   "source": [
    "arcpy.management.AlterField(\"ia_bg_con\", \"inter3pct\", \"con3m\", \"con3m\")"
   ]
  },
  {
   "cell_type": "code",
   "execution_count": 26,
   "metadata": {},
   "outputs": [
    {
     "data": {
      "text/html": [
       "<h2>Output</h2>C:\\Users\\tchis\\Documents\\ArcGIS\\Projects\\Geovisprog Project\\Geovisprog Project.gdb\\ia_bg_con<h2>Messages</h2>Start Time: Sunday, May 9, 2021 3:53:51 AM<br/>Succeeded at Sunday, May 9, 2021 3:53:51 AM (Elapsed Time: 0.13 seconds)<br/><style>.rendered_html td, .rendered_html th {text-align: left;}.rendered_html tbody {border: 1px solid black;}</style>"
      ],
      "text/plain": [
       "<Result 'C:\\\\Users\\\\tchis\\\\Documents\\\\ArcGIS\\\\Projects\\\\Geovisprog Project\\\\Geovisprog Project.gdb\\\\ia_bg_con'>"
      ]
     },
     "execution_count": 26,
     "metadata": {},
     "output_type": "execute_result"
    }
   ],
   "source": [
    "arcpy.management.AlterField(\"ia_bg_con\", \"inter5pct\", \"con5m\", \"con5m\")"
   ]
  },
  {
   "cell_type": "code",
   "execution_count": 27,
   "metadata": {},
   "outputs": [
    {
     "data": {
      "text/html": [
       "<h2>Output</h2>a Layer object<h2>Messages</h2>Start Time: Sunday, May 9, 2021 3:53:56 AM<br/>Succeeded at Sunday, May 9, 2021 3:53:56 AM (Elapsed Time: 0.53 seconds)<br/><style>.rendered_html td, .rendered_html th {text-align: left;}.rendered_html tbody {border: 1px solid black;}</style>"
      ],
      "text/plain": [
       "<Result 'ia_bg_all_data'>"
      ]
     },
     "execution_count": 27,
     "metadata": {},
     "output_type": "execute_result"
    }
   ],
   "source": [
    "arcpy.management.JoinField(outputfc, infield, poly2, joinfield, [tojoin1, tojoin2, tojoin3])"
   ]
  },
  {
   "cell_type": "code",
   "execution_count": 28,
   "metadata": {},
   "outputs": [
    {
     "data": {
      "text/html": [
       "<h2>Output</h2>a Layer object<h2>Messages</h2>Start Time: Sunday, May 9, 2021 3:54:06 AM<br/>Succeeded at Sunday, May 9, 2021 3:54:07 AM (Elapsed Time: 0.80 seconds)<br/><style>.rendered_html td, .rendered_html th {text-align: left;}.rendered_html tbody {border: 1px solid black;}</style>"
      ],
      "text/plain": [
       "<Result 'ia_bg_all_data'>"
      ]
     },
     "execution_count": 28,
     "metadata": {},
     "output_type": "execute_result"
    }
   ],
   "source": [
    "arcpy.management.JoinField(outputfc, infield, intable, tablefield)"
   ]
  },
  {
   "cell_type": "code",
   "execution_count": 47,
   "metadata": {},
   "outputs": [],
   "source": [
    "def spatstatstest(report_name, input_fc, resvar, expvar1, expvar2, expvar3, input_geodatabase):\n",
    "    \n",
    "    # Import the necessary modules\n",
    "    import arcpy\n",
    "    import sys\n",
    "    import traceback\n",
    "    \n",
    "    # Enable overwriting\n",
    "    arcpy.env.overwriteOutput = True\n",
    "    \n",
    "    # Set the current workspace\n",
    "    arcpy.env.workspace = input_geodatabase\n",
    "    \n",
    "    # Define custom exceptions\n",
    "    class WorkspaceExistsError(Exception):\n",
    "        pass\n",
    "    class WorkspaceEmptyError(Exception):\n",
    "        pass\n",
    "    class fcExistsError(Exception):\n",
    "        pass\n",
    "    class fieldExistsError(Exception):\n",
    "        pass\n",
    "    \n",
    "    \n",
    "    try:\n",
    "        # Test if workspace exists\n",
    "        if arcpy.Exists(input_geodatabase):\n",
    "            print(\"Specified workspace has been found.\")\n",
    "        else:\n",
    "            raise WorkspaceExistsError\n",
    "        \n",
    "        # Test if there are any feature classes in the specified folder or geodatabase\n",
    "        fclist = []\n",
    "        # Walk through the input folder or geodatabase and find all feature classes; add their names to the fclist\n",
    "        checkwalk = arcpy.da.Walk(input_geodatabase, datatype = \"FeatureClass\")\n",
    "        for dirpath, dirnames, filenames in checkwalk:\n",
    "            for file in filenames:\n",
    "                fclist.append(str(file))\n",
    "        \n",
    "        # If fclist is empty, then there were no feature classes in the specified folder or geodatabase\n",
    "        if not fclist:\n",
    "            raise WorkspaceEmptyError\n",
    "        else: pass\n",
    "    \n",
    "        # Test if input_fc exists\n",
    "        if arcpy.Exists(input_fc):\n",
    "            print(\"Specified feature class has been found.\")\n",
    "        else:\n",
    "            raise fcExistsError\n",
    "            \n",
    "        # Test if all variables exist as fields in input_fc\n",
    "        varlist = [resvar, expvar1, expvar2, expvar3]\n",
    "        fields = arcpy.ListFields(input_fc)\n",
    "        fieldstest = []\n",
    "        for var in varlist:\n",
    "            for f in fields:\n",
    "                fieldstest.append(f.name)\n",
    "            if var in fieldstest:\n",
    "                pass\n",
    "            else: raise fieldExistsError\n",
    "            \n",
    "    except WorkspaceExistsError:\n",
    "        print(\"WorkspaceExistsError: The specified workspace (geodatabase or folder) could not be found!\")\n",
    "        \n",
    "    except WorkspaceEmptyError:\n",
    "        print(\"WorkspaceEmptyError: The workspace (geodatabase or folder) appears to contain no feature classes!\")\n",
    "        \n",
    "    except fcExistsError:\n",
    "        print(\"fcExistsError: The specified feature class could not be found!\")\n",
    "        \n",
    "    except fieldExistsError:\n",
    "        print(\"fieldExistsError: At least one of the specified variables cannot be found as a field in the input feature class (input_fc)!\")\n",
    "    \n",
    "    else:\n",
    "        try:\n",
    "            # Generate HTML reports with Moran's I statistic\n",
    "            for var in varlist:\n",
    "                arcpy.stats.SpatialAutocorrelation(input_fc, var, \"Generate_Report\", \"CONTIGUITY_EDGES_CORNERS\", \"EUCLIDEAN_DISTANCE\", \"NONE\")\n",
    "                \n",
    "            # Generate exploratory regression model\n",
    "            arcpy.stats.ExploratoryRegression(input_fc, resvar, [expvar1, expvar2, expvar3], Output_Report_File = report_name)\n",
    "            \n",
    "        \n",
    "        except arcpy.ExecuteError: \n",
    "            # Get the tool error messages \n",
    "            msgs = arcpy.GetMessages(2) \n",
    "    \n",
    "            # Return tool error messages for use with a script tool \n",
    "            arcpy.AddError(msgs) \n",
    "    \n",
    "            # Print tool error messages for use in Python\n",
    "            print(\"Tool Error:\", msgs)\n",
    "    \n",
    "        except:\n",
    "            # Get the traceback object\n",
    "            tb = sys.exc_info()[2]\n",
    "            tbinfo = traceback.format_tb(tb)[0]\n",
    "    \n",
    "            # Put error information into a message string\n",
    "            pymsg = \"PYTHON ERRORS:\\nTraceback info:\\n\" + tbinfo + \"\\nError Info:\\n\" + str(sys.exc_info()[1])\n",
    "            msgs = \"ArcPy ERRORS:\\n\" + arcpy.GetMessages(2) + \"\\n\"\n",
    "    \n",
    "            # Return python error messages for use in script tool or Python window\n",
    "            arcpy.AddError(pymsg)\n",
    "            arcpy.AddError(msgs)\n",
    "    \n",
    "            # Print Python error messages for use in Python / Python window\n",
    "            print(pymsg)\n",
    "            print(msgs)\n",
    "        \n",
    "        print(\"All operations complete!\")"
   ]
  },
  {
   "cell_type": "code",
   "execution_count": 48,
   "metadata": {},
   "outputs": [
    {
     "name": "stdout",
     "output_type": "stream",
     "text": [
      "Specified workspace has been found.\n",
      "Specified feature class has been found.\n",
      "Tool Error: Failed to execute. Parameters are not valid.\n",
      "ERROR 000308: Invalid field type\n",
      "ERROR 000814: Invalid file type\n",
      "Failed to execute (OrdinaryLeastSquares).\n",
      "\n",
      "All operations complete!\n"
     ]
    }
   ],
   "source": [
    "spatstatstest(\"s1m_report.txt\", outputfc, \"solid1m\", \"pctBlackAlone\", \"pctHL\", \"med_income\", r\"C:\\Users\\tchis\\Documents\\ArcGIS\\Projects\\Geovisprog Project\\Geovisprog Project.gdb\")"
   ]
  },
  {
   "cell_type": "code",
   "execution_count": 42,
   "metadata": {},
   "outputs": [
    {
     "name": "stdout",
     "output_type": "stream",
     "text": [
      "Specified workspace has been found.\n",
      "Specified feature class has been found.\n",
      "All operations complete!\n"
     ]
    }
   ],
   "source": [
    "spatstatstest(\"s3m_report.txt\", outputfc, \"solid3m\", \"pctBlackAlone\", \"pctHL\", \"med_income\", r\"C:\\Users\\tchis\\Documents\\ArcGIS\\Projects\\Geovisprog Project\\Geovisprog Project.gdb\")"
   ]
  },
  {
   "cell_type": "code",
   "execution_count": 43,
   "metadata": {},
   "outputs": [
    {
     "name": "stdout",
     "output_type": "stream",
     "text": [
      "Specified workspace has been found.\n",
      "Specified feature class has been found.\n",
      "All operations complete!\n"
     ]
    }
   ],
   "source": [
    "spatstatstest(\"s5m_report.txt\", outputfc, \"solid5m\", \"pctBlackAlone\", \"pctHL\", \"med_income\", r\"C:\\Users\\tchis\\Documents\\ArcGIS\\Projects\\Geovisprog Project\\Geovisprog Project.gdb\")"
   ]
  },
  {
   "cell_type": "code",
   "execution_count": 44,
   "metadata": {},
   "outputs": [
    {
     "name": "stdout",
     "output_type": "stream",
     "text": [
      "Specified workspace has been found.\n",
      "Specified feature class has been found.\n",
      "All operations complete!\n"
     ]
    }
   ],
   "source": [
    "spatstatstest(\"c1m_report.txt\", outputfc, \"con1m\", \"pctBlackAlone\", \"pctHL\", \"med_income\", r\"C:\\Users\\tchis\\Documents\\ArcGIS\\Projects\\Geovisprog Project\\Geovisprog Project.gdb\")"
   ]
  },
  {
   "cell_type": "code",
   "execution_count": 45,
   "metadata": {},
   "outputs": [
    {
     "name": "stdout",
     "output_type": "stream",
     "text": [
      "Specified workspace has been found.\n",
      "Specified feature class has been found.\n",
      "All operations complete!\n"
     ]
    }
   ],
   "source": [
    "spatstatstest(\"c3m_report.txt\", outputfc, \"con3m\", \"pctBlackAlone\", \"pctHL\", \"med_income\", r\"C:\\Users\\tchis\\Documents\\ArcGIS\\Projects\\Geovisprog Project\\Geovisprog Project.gdb\")"
   ]
  },
  {
   "cell_type": "code",
   "execution_count": 46,
   "metadata": {},
   "outputs": [
    {
     "name": "stdout",
     "output_type": "stream",
     "text": [
      "Specified workspace has been found.\n",
      "Specified feature class has been found.\n",
      "All operations complete!\n"
     ]
    }
   ],
   "source": [
    "spatstatstest(\"c5m_report.txt\", outputfc, \"con5m\", \"pctBlackAlone\", \"pctHL\", \"med_income\", r\"C:\\Users\\tchis\\Documents\\ArcGIS\\Projects\\Geovisprog Project\\Geovisprog Project.gdb\")"
   ]
  },
  {
   "cell_type": "code",
   "execution_count": null,
   "metadata": {},
   "outputs": [],
   "source": []
  }
 ],
 "metadata": {
  "kernelspec": {
   "display_name": "ArcGISPro",
   "language": "Python",
   "name": "python3"
  },
  "language_info": {
   "file_extension": ".py",
   "name": "python",
   "version": "3"
  }
 },
 "nbformat": 4,
 "nbformat_minor": 2
}
